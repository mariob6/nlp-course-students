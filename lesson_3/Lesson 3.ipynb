{
 "cells": [
  {
   "cell_type": "markdown",
   "metadata": {},
   "source": [
    "# Language Modeling with Neural Networks"
   ]
  },
  {
   "cell_type": "markdown",
   "metadata": {},
   "source": [
    "### Recommended Readings\n",
    "https://en.wikipedia.org/wiki/Language_model\n",
    "\n",
    "http://www.jmlr.org/papers/volume3/bengio03a/bengio03a.pdf"
   ]
  },
  {
   "cell_type": "markdown",
   "metadata": {},
   "source": [
    "## What will you be doing today?\n",
    "### today is all about *you*\n",
    "\n",
    "The goal is to implement a neural network capable of generating new texts, a good starting point is\n",
    "https://towardsdatascience.com/generating-drake-rap-lyrics-using-language-models-and-lstms-8725d71b1b12\n",
    "Where everything is implemented using Keras (a.k.a the devil)\n",
    "\n",
    "another one in PyTorch:\n",
    "https://github.com/pytorch/examples/tree/master/word_language_model"
   ]
  },
  {
   "cell_type": "markdown",
   "metadata": {},
   "source": [
    "#### You have 3 datasets you could work on, depending on personal preferences\n",
    "data/language_model/drake_lyrics.txt\n",
    "\n",
    "data/language_model/shortjokes.csv\n",
    "\n",
    "data/language_model/songdata.csv"
   ]
  },
  {
   "cell_type": "code",
   "execution_count": 5,
   "metadata": {},
   "outputs": [
    {
     "name": "stdout",
     "output_type": "stream",
     "text": [
      "money money cars cars clothes clothes the hoes suppose yeah want the money money and the cars cars and the clothes the hoes suppose just wanna be just wanna be successful just wanna be just wanna be successful just wanna be just wanna be successful drizzy ah yeah trey fuckin feel\n",
      "\n",
      "money cars cars clothes clothes the hoes suppose yeah want the money money and the cars cars and the clothes the hoes suppose just wanna be just wanna be successful just wanna be just wanna be successful just wanna be just wanna be successful drizzy ah yeah trey fuckin feel you\n",
      "\n",
      "cars cars clothes clothes the hoes suppose yeah want the money money and the cars cars and the clothes the hoes suppose just wanna be just wanna be successful just wanna be just wanna be successful just wanna be just wanna be successful drizzy ah yeah trey fuckin feel you they\n",
      "\n",
      "cars clothes clothes the hoes suppose yeah want the money money and the cars cars and the clothes the hoes suppose just wanna be just wanna be successful just wanna be just wanna be successful just wanna be just wanna be successful drizzy ah yeah trey fuckin feel you they be\n",
      "\n",
      "clothes clothes the hoes suppose yeah want the money money and the cars cars and the clothes the hoes suppose just wanna be just wanna be successful just wanna be just wanna be successful just wanna be just wanna be successful drizzy ah yeah trey fuckin feel you they be starin\n",
      "\n",
      "clothes the hoes suppose yeah want the money money and the cars cars and the clothes the hoes suppose just wanna be just wanna be successful just wanna be just wanna be successful just wanna be just wanna be successful drizzy ah yeah trey fuckin feel you they be starin at\n",
      "\n",
      "the hoes suppose yeah want the money money and the cars cars and the clothes the hoes suppose just wanna be just wanna be successful just wanna be just wanna be successful just wanna be just wanna be successful drizzy ah yeah trey fuckin feel you they be starin at the\n",
      "\n"
     ]
    }
   ],
   "source": [
    "with open(\"../data/language_model/drake_lyrics.txt\", 'r') as fp:\n",
    "    lines = []\n",
    "    for index, line in enumerate(fp):\n",
    "        lines.append(line)\n",
    "        if index > 5:\n",
    "            break\n",
    "            \n",
    "print(\"\\n\".join(lines))"
   ]
  },
  {
   "cell_type": "code",
   "execution_count": 6,
   "metadata": {},
   "outputs": [],
   "source": [
    "import pandas as pd"
   ]
  },
  {
   "cell_type": "code",
   "execution_count": 10,
   "metadata": {},
   "outputs": [
    {
     "data": {
      "text/plain": [
       "'[me narrating a documentary about narrators] \"I can\\'t hear what they\\'re saying cuz I\\'m talking\"'"
      ]
     },
     "execution_count": 10,
     "metadata": {},
     "output_type": "execute_result"
    }
   ],
   "source": [
    "df = pd.read_csv('../data/language_model/shortjokes.csv', nrows=20)\n",
    "df['Joke'].tolist()[0]"
   ]
  },
  {
   "cell_type": "code",
   "execution_count": 11,
   "metadata": {},
   "outputs": [
    {
     "data": {
      "text/html": [
       "<div>\n",
       "<style scoped>\n",
       "    .dataframe tbody tr th:only-of-type {\n",
       "        vertical-align: middle;\n",
       "    }\n",
       "\n",
       "    .dataframe tbody tr th {\n",
       "        vertical-align: top;\n",
       "    }\n",
       "\n",
       "    .dataframe thead th {\n",
       "        text-align: right;\n",
       "    }\n",
       "</style>\n",
       "<table border=\"1\" class=\"dataframe\">\n",
       "  <thead>\n",
       "    <tr style=\"text-align: right;\">\n",
       "      <th></th>\n",
       "      <th>artist</th>\n",
       "      <th>song</th>\n",
       "      <th>link</th>\n",
       "      <th>text</th>\n",
       "    </tr>\n",
       "  </thead>\n",
       "  <tbody>\n",
       "    <tr>\n",
       "      <th>0</th>\n",
       "      <td>ABBA</td>\n",
       "      <td>Ahe's My Kind Of Girl</td>\n",
       "      <td>/a/abba/ahes+my+kind+of+girl_20598417.html</td>\n",
       "      <td>Look at her face, it's a wonderful face  \\nAnd...</td>\n",
       "    </tr>\n",
       "    <tr>\n",
       "      <th>1</th>\n",
       "      <td>ABBA</td>\n",
       "      <td>Andante, Andante</td>\n",
       "      <td>/a/abba/andante+andante_20002708.html</td>\n",
       "      <td>Take it easy with me, please  \\nTouch me gentl...</td>\n",
       "    </tr>\n",
       "    <tr>\n",
       "      <th>2</th>\n",
       "      <td>ABBA</td>\n",
       "      <td>As Good As New</td>\n",
       "      <td>/a/abba/as+good+as+new_20003033.html</td>\n",
       "      <td>I'll never know why I had to go  \\nWhy I had t...</td>\n",
       "    </tr>\n",
       "    <tr>\n",
       "      <th>3</th>\n",
       "      <td>ABBA</td>\n",
       "      <td>Bang</td>\n",
       "      <td>/a/abba/bang_20598415.html</td>\n",
       "      <td>Making somebody happy is a question of give an...</td>\n",
       "    </tr>\n",
       "    <tr>\n",
       "      <th>4</th>\n",
       "      <td>ABBA</td>\n",
       "      <td>Bang-A-Boomerang</td>\n",
       "      <td>/a/abba/bang+a+boomerang_20002668.html</td>\n",
       "      <td>Making somebody happy is a question of give an...</td>\n",
       "    </tr>\n",
       "  </tbody>\n",
       "</table>\n",
       "</div>"
      ],
      "text/plain": [
       "  artist                   song                                        link  \\\n",
       "0   ABBA  Ahe's My Kind Of Girl  /a/abba/ahes+my+kind+of+girl_20598417.html   \n",
       "1   ABBA       Andante, Andante       /a/abba/andante+andante_20002708.html   \n",
       "2   ABBA         As Good As New        /a/abba/as+good+as+new_20003033.html   \n",
       "3   ABBA                   Bang                  /a/abba/bang_20598415.html   \n",
       "4   ABBA       Bang-A-Boomerang      /a/abba/bang+a+boomerang_20002668.html   \n",
       "\n",
       "                                                text  \n",
       "0  Look at her face, it's a wonderful face  \\nAnd...  \n",
       "1  Take it easy with me, please  \\nTouch me gentl...  \n",
       "2  I'll never know why I had to go  \\nWhy I had t...  \n",
       "3  Making somebody happy is a question of give an...  \n",
       "4  Making somebody happy is a question of give an...  "
      ]
     },
     "execution_count": 11,
     "metadata": {},
     "output_type": "execute_result"
    }
   ],
   "source": [
    "df = pd.read_csv('../data/language_model/songdata.csv', nrows=20)\n",
    "df.head()"
   ]
  },
  {
   "cell_type": "markdown",
   "metadata": {},
   "source": [
    "# GO FOR IT!\n",
    "Have fun, and call us if you feel in doubt :)"
   ]
  },
  {
   "cell_type": "code",
   "execution_count": null,
   "metadata": {},
   "outputs": [],
   "source": []
  }
 ],
 "metadata": {
  "kernelspec": {
   "display_name": "Python 3",
   "language": "python",
   "name": "python3"
  },
  "language_info": {
   "codemirror_mode": {
    "name": "ipython",
    "version": 3
   },
   "file_extension": ".py",
   "mimetype": "text/x-python",
   "name": "python",
   "nbconvert_exporter": "python",
   "pygments_lexer": "ipython3",
   "version": "3.6.6"
  }
 },
 "nbformat": 4,
 "nbformat_minor": 2
}
